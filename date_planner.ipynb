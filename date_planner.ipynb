{
  "nbformat": 4,
  "nbformat_minor": 0,
  "metadata": {
    "colab": {
      "provenance": [],
      "authorship_tag": "ABX9TyM4GOhVjl3HlyfGhQpMFiR6",
      "include_colab_link": true
    },
    "kernelspec": {
      "name": "python3",
      "display_name": "Python 3"
    },
    "language_info": {
      "name": "python"
    }
  },
  "cells": [
    {
      "cell_type": "markdown",
      "metadata": {
        "id": "view-in-github",
        "colab_type": "text"
      },
      "source": [
        "<a href=\"https://colab.research.google.com/github/karma200020/outingly/blob/main/date_planner.ipynb\" target=\"_parent\"><img src=\"https://colab.research.google.com/assets/colab-badge.svg\" alt=\"Open In Colab\"/></a>"
      ]
    },
    {
      "cell_type": "code",
      "execution_count": null,
      "metadata": {
        "id": "nWh1FGjM6FM_"
      },
      "outputs": [],
      "source": [
        "import requests\n",
        "import pandas as pd\n",
        "\n",
        "FOURSQUARE_API_KEY = \"your-foursquare-api-key\"\n",
        "FOURSQUARE_URL = \"https://api.foursquare.com/v3/places/search\"\n",
        "\n",
        "def fetch_activities(location, query, radius=1000):\n",
        "    \"\"\"Fetch activity data from Foursquare API.\"\"\"\n",
        "    headers = {\"Authorization\": FOURSQUARE_API_KEY}\n",
        "    params = {\n",
        "        \"query\": query,\n",
        "        \"near\": location,\n",
        "        \"radius\": radius,\n",
        "        \"limit\": 50,\n",
        "    }\n",
        "    response = requests.get(FOURSQUARE_URL, headers=headers, params=params)\n",
        "    if response.status_code == 200:\n",
        "        data = response.json()\n",
        "        activities = []\n",
        "        for item in data[\"results\"]:\n",
        "            activities.append({\n",
        "                \"name\": item.get(\"name\"),\n",
        "                \"location\": location,\n",
        "                \"category\": item.get(\"categories\")[0][\"name\"] if item.get(\"categories\") else \"Unknown\",\n",
        "                \"address\": item.get(\"location\", {}).get(\"formatted_address\"),\n",
        "            })\n",
        "        return pd.DataFrame(activities)\n",
        "    else:\n",
        "        print(f\"Error: {response.status_code}\")\n",
        "        return pd.DataFrame()\n",
        "\n",
        "# Example usage\n",
        "df = fetch_activities(location=\"New York\", query=\"activities\")\n",
        "print(df.head())\n"
      ]
    }
  ]
}